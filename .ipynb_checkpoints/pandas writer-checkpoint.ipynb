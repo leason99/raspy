{
 "cells": [
  {
   "cell_type": "code",
   "execution_count": 76,
   "metadata": {
    "collapsed": true
   },
   "outputs": [],
   "source": [
    "import pandas as pd\n",
    "import numpy as np\n",
    "import time\n",
    "import random\n",
    "import os\n",
    "import sys"
   ]
  },
  {
   "cell_type": "code",
   "execution_count": null,
   "metadata": {
    "collapsed": true
   },
   "outputs": [],
   "source": []
  },
  {
   "cell_type": "code",
   "execution_count": 297,
   "metadata": {
    "collapsed": false
   },
   "outputs": [],
   "source": [
    "data=np.zeros(9)\n",
    "data.astype(int)\n",
    "data[0]=time.strftime(\"%Y%m%d%H%M%S\",time.localtime())\n",
    "columns=[\"time\",\"ch1\",\"ch2\",\"ch3\",\"ch4\",\"ch5\",\"ch6\",\"ch7\",\"ch8\"]\n",
    "cvs=pd.DataFrame(columns=columns, index=[0])"
   ]
  },
  {
   "cell_type": "code",
   "execution_count": 291,
   "metadata": {
    "collapsed": false
   },
   "outputs": [
    {
     "data": {
      "text/html": [
       "<div>\n",
       "<table border=\"1\" class=\"dataframe\">\n",
       "  <thead>\n",
       "    <tr style=\"text-align: right;\">\n",
       "      <th></th>\n",
       "      <th>ch1</th>\n",
       "      <th>ch2</th>\n",
       "      <th>ch3</th>\n",
       "      <th>ch4</th>\n",
       "      <th>ch5</th>\n",
       "      <th>ch6</th>\n",
       "      <th>ch7</th>\n",
       "      <th>ch8</th>\n",
       "    </tr>\n",
       "  </thead>\n",
       "  <tbody>\n",
       "    <tr>\n",
       "      <th>0</th>\n",
       "      <td>NaN</td>\n",
       "      <td>NaN</td>\n",
       "      <td>NaN</td>\n",
       "      <td>NaN</td>\n",
       "      <td>NaN</td>\n",
       "      <td>NaN</td>\n",
       "      <td>NaN</td>\n",
       "      <td>NaN</td>\n",
       "    </tr>\n",
       "  </tbody>\n",
       "</table>\n",
       "</div>"
      ],
      "text/plain": [
       "   ch1  ch2  ch3  ch4  ch5  ch6  ch7  ch8\n",
       "0  NaN  NaN  NaN  NaN  NaN  NaN  NaN  NaN"
      ]
     },
     "execution_count": 291,
     "metadata": {},
     "output_type": "execute_result"
    }
   ],
   "source": [
    "cvs"
   ]
  },
  {
   "cell_type": "code",
   "execution_count": 318,
   "metadata": {
    "collapsed": false
   },
   "outputs": [
    {
     "name": "stdout",
     "output_type": "stream",
     "text": [
      "37.0\n",
      "692.0\n",
      "882.0\n",
      "805.0\n",
      "917.0\n",
      "422.0\n",
      "164.0\n",
      "706.0\n"
     ]
    },
    {
     "data": {
      "text/html": [
       "<div>\n",
       "<table border=\"1\" class=\"dataframe\">\n",
       "  <thead>\n",
       "    <tr style=\"text-align: right;\">\n",
       "      <th></th>\n",
       "      <th>time</th>\n",
       "      <th>ch1</th>\n",
       "      <th>ch2</th>\n",
       "      <th>ch3</th>\n",
       "      <th>ch4</th>\n",
       "      <th>ch5</th>\n",
       "      <th>ch6</th>\n",
       "      <th>ch7</th>\n",
       "      <th>ch8</th>\n",
       "    </tr>\n",
       "  </thead>\n",
       "  <tbody>\n",
       "    <tr>\n",
       "      <th>0</th>\n",
       "      <td>2.017051e+13</td>\n",
       "      <td>37.0</td>\n",
       "      <td>692.0</td>\n",
       "      <td>882.0</td>\n",
       "      <td>805.0</td>\n",
       "      <td>917.0</td>\n",
       "      <td>422.0</td>\n",
       "      <td>164.0</td>\n",
       "      <td>706.0</td>\n",
       "    </tr>\n",
       "  </tbody>\n",
       "</table>\n",
       "</div>"
      ],
      "text/plain": [
       "           time   ch1    ch2    ch3    ch4    ch5    ch6    ch7    ch8\n",
       "0  2.017051e+13  37.0  692.0  882.0  805.0  917.0  422.0  164.0  706.0"
      ]
     },
     "execution_count": 318,
     "metadata": {},
     "output_type": "execute_result"
    }
   ],
   "source": [
    "data=np.ndarray(9)\n",
    "data[0]=time.strftime(\"%Y%m%d%H%M%S\",time.localtime())\n",
    "\n",
    "for i in range(1,9):\n",
    "    data[i]= random.randint(0,1023)\n",
    "    print(data[i])\n",
    "data.astype(int)\n",
    "\n",
    "tes=pd.DataFrame(columns=columns,data=data.reshape(1,-1))\n",
    "tes\n"
   ]
  },
  {
   "cell_type": "code",
   "execution_count": 310,
   "metadata": {
    "collapsed": false
   },
   "outputs": [
    {
     "data": {
      "text/html": [
       "<div>\n",
       "<table border=\"1\" class=\"dataframe\">\n",
       "  <thead>\n",
       "    <tr style=\"text-align: right;\">\n",
       "      <th></th>\n",
       "      <th>time</th>\n",
       "      <th>ch1</th>\n",
       "      <th>ch2</th>\n",
       "      <th>ch3</th>\n",
       "      <th>ch4</th>\n",
       "      <th>ch5</th>\n",
       "      <th>ch6</th>\n",
       "      <th>ch7</th>\n",
       "      <th>ch8</th>\n",
       "    </tr>\n",
       "  </thead>\n",
       "  <tbody>\n",
       "    <tr>\n",
       "      <th>0</th>\n",
       "      <td>2.017051e+13</td>\n",
       "      <td>411.0</td>\n",
       "      <td>292.0</td>\n",
       "      <td>369.0</td>\n",
       "      <td>70.0</td>\n",
       "      <td>290.0</td>\n",
       "      <td>896.0</td>\n",
       "      <td>470.0</td>\n",
       "      <td>738.0</td>\n",
       "    </tr>\n",
       "    <tr>\n",
       "      <th>-1</th>\n",
       "      <td>2.017051e+13</td>\n",
       "      <td>480.0</td>\n",
       "      <td>180.0</td>\n",
       "      <td>521.0</td>\n",
       "      <td>553.0</td>\n",
       "      <td>930.0</td>\n",
       "      <td>881.0</td>\n",
       "      <td>28.0</td>\n",
       "      <td>990.0</td>\n",
       "    </tr>\n",
       "    <tr>\n",
       "      <th>2</th>\n",
       "      <td>2.017051e+13</td>\n",
       "      <td>218.0</td>\n",
       "      <td>560.0</td>\n",
       "      <td>864.0</td>\n",
       "      <td>788.0</td>\n",
       "      <td>203.0</td>\n",
       "      <td>717.0</td>\n",
       "      <td>939.0</td>\n",
       "      <td>527.0</td>\n",
       "    </tr>\n",
       "    <tr>\n",
       "      <th>3</th>\n",
       "      <td>2.017051e+13</td>\n",
       "      <td>218.0</td>\n",
       "      <td>560.0</td>\n",
       "      <td>864.0</td>\n",
       "      <td>788.0</td>\n",
       "      <td>203.0</td>\n",
       "      <td>717.0</td>\n",
       "      <td>939.0</td>\n",
       "      <td>527.0</td>\n",
       "    </tr>\n",
       "  </tbody>\n",
       "</table>\n",
       "</div>"
      ],
      "text/plain": [
       "            time    ch1    ch2    ch3    ch4    ch5    ch6    ch7    ch8\n",
       " 0  2.017051e+13  411.0  292.0  369.0   70.0  290.0  896.0  470.0  738.0\n",
       "-1  2.017051e+13  480.0  180.0  521.0  553.0  930.0  881.0   28.0  990.0\n",
       " 2  2.017051e+13  218.0  560.0  864.0  788.0  203.0  717.0  939.0  527.0\n",
       " 3  2.017051e+13  218.0  560.0  864.0  788.0  203.0  717.0  939.0  527.0"
      ]
     },
     "execution_count": 310,
     "metadata": {},
     "output_type": "execute_result"
    }
   ],
   "source": [
    "cvs"
   ]
  },
  {
   "cell_type": "code",
   "execution_count": null,
   "metadata": {
    "collapsed": true
   },
   "outputs": [],
   "source": [
    "cvs.index=cvs.index.astype(int)"
   ]
  },
  {
   "cell_type": "code",
   "execution_count": 280,
   "metadata": {
    "collapsed": false
   },
   "outputs": [],
   "source": [
    "filename=time.strftime(\"%Y%m%d_%H%M%S\",time.localtime())\n",
    "dirPath=os.path.dirname(os.path.abspath(sys.argv[0]))\n"
   ]
  },
  {
   "cell_type": "code",
   "execution_count": 282,
   "metadata": {
    "collapsed": false
   },
   "outputs": [
    {
     "data": {
      "text/plain": [
       "'/Users/leason/anaconda/lib/python3.6/site-packages/ipykernel/20170507_230733'"
      ]
     },
     "execution_count": 282,
     "metadata": {},
     "output_type": "execute_result"
    }
   ],
   "source": [
    "filePath=os.path.join(dirPath,filename)\n",
    "filePath"
   ]
  },
  {
   "cell_type": "code",
   "execution_count": 283,
   "metadata": {
    "collapsed": false
   },
   "outputs": [],
   "source": [
    "cvs.to_csv(filePath)\n"
   ]
  },
  {
   "cell_type": "code",
   "execution_count": 10,
   "metadata": {
    "collapsed": false
   },
   "outputs": [
    {
     "name": "stdout",
     "output_type": "stream",
     "text": [
      "chanel_num:1\n"
     ]
    }
   ],
   "source": [
    "#!/usr/bin/env python3\n",
    "\n",
    "\"\"\"This script prompts a user to enter a message to encode or decode\n",
    "   using a classic Caeser shift substitution (3 letter shift)\"\"\"\n",
    " \n",
    "\n",
    "import sys\n",
    "import os\n",
    "import time\n",
    "import Adafruit_MCP3008\n",
    "import numpy as np\n",
    "import Adafruit_GPIO.SPI as SPI\n",
    "import pandas as pd\n",
    "\n",
    "\n",
    "times=5000\n",
    "\n",
    "SPI_PORT= 0\n",
    "SPI_DEVICE = 0\n",
    "chnum = 1\n",
    "chnum = int(input(\"chanel_num:\"))\n",
    "\n",
    "chnum=chnum\n",
    "\n",
    "\n",
    "if 1<= int(chnum) <= 8:\n",
    "    pass\n",
    "else:\n",
    "    chnum=1\n",
    "\n",
    "data=np.zeros((times,int(chnum)))\n",
    "\n",
    "\n",
    "\n",
    "for count in range(times):\n",
    "    for i in range(0,chnum):\n",
    "        data[count,i]= random.randint(0,1023)\n",
    "\n",
    "\n",
    "columns = [\"ch1\", \"ch2\", \"ch3\",\"ch4\",\"ch5\",\"ch6\",\"ch7\",\"ch8\"]\n",
    "cvs=pd.DataFrame(columns=columns[0:chnum],data=data)\n",
    "\n",
    "#cvs.loc[count]=data[:]\n",
    "filename=time.strftime(\"%Y%m%d_%H%M%S\",time.localtime())\n",
    "dirPath=os.path.dirname(os.path.abspath(sys.argv[0]))\n",
    "filePath=os.path.join(dirPath,filename+\".csv\")\n",
    "cvs.to_csv(filePath)"
   ]
  },
  {
   "cell_type": "code",
   "execution_count": 12,
   "metadata": {
    "collapsed": false
   },
   "outputs": [
    {
     "data": {
      "text/html": [
       "<div>\n",
       "<table border=\"1\" class=\"dataframe\">\n",
       "  <thead>\n",
       "    <tr style=\"text-align: right;\">\n",
       "      <th></th>\n",
       "      <th>ch1</th>\n",
       "    </tr>\n",
       "  </thead>\n",
       "  <tbody>\n",
       "    <tr>\n",
       "      <th>0</th>\n",
       "      <td>550.0</td>\n",
       "    </tr>\n",
       "    <tr>\n",
       "      <th>1</th>\n",
       "      <td>766.0</td>\n",
       "    </tr>\n",
       "    <tr>\n",
       "      <th>2</th>\n",
       "      <td>552.0</td>\n",
       "    </tr>\n",
       "    <tr>\n",
       "      <th>3</th>\n",
       "      <td>859.0</td>\n",
       "    </tr>\n",
       "    <tr>\n",
       "      <th>4</th>\n",
       "      <td>945.0</td>\n",
       "    </tr>\n",
       "    <tr>\n",
       "      <th>5</th>\n",
       "      <td>240.0</td>\n",
       "    </tr>\n",
       "    <tr>\n",
       "      <th>6</th>\n",
       "      <td>641.0</td>\n",
       "    </tr>\n",
       "    <tr>\n",
       "      <th>7</th>\n",
       "      <td>948.0</td>\n",
       "    </tr>\n",
       "    <tr>\n",
       "      <th>8</th>\n",
       "      <td>322.0</td>\n",
       "    </tr>\n",
       "    <tr>\n",
       "      <th>9</th>\n",
       "      <td>465.0</td>\n",
       "    </tr>\n",
       "    <tr>\n",
       "      <th>10</th>\n",
       "      <td>427.0</td>\n",
       "    </tr>\n",
       "    <tr>\n",
       "      <th>11</th>\n",
       "      <td>241.0</td>\n",
       "    </tr>\n",
       "    <tr>\n",
       "      <th>12</th>\n",
       "      <td>467.0</td>\n",
       "    </tr>\n",
       "    <tr>\n",
       "      <th>13</th>\n",
       "      <td>984.0</td>\n",
       "    </tr>\n",
       "    <tr>\n",
       "      <th>14</th>\n",
       "      <td>639.0</td>\n",
       "    </tr>\n",
       "    <tr>\n",
       "      <th>15</th>\n",
       "      <td>867.0</td>\n",
       "    </tr>\n",
       "    <tr>\n",
       "      <th>16</th>\n",
       "      <td>319.0</td>\n",
       "    </tr>\n",
       "    <tr>\n",
       "      <th>17</th>\n",
       "      <td>486.0</td>\n",
       "    </tr>\n",
       "    <tr>\n",
       "      <th>18</th>\n",
       "      <td>575.0</td>\n",
       "    </tr>\n",
       "    <tr>\n",
       "      <th>19</th>\n",
       "      <td>144.0</td>\n",
       "    </tr>\n",
       "    <tr>\n",
       "      <th>20</th>\n",
       "      <td>705.0</td>\n",
       "    </tr>\n",
       "    <tr>\n",
       "      <th>21</th>\n",
       "      <td>122.0</td>\n",
       "    </tr>\n",
       "    <tr>\n",
       "      <th>22</th>\n",
       "      <td>209.0</td>\n",
       "    </tr>\n",
       "    <tr>\n",
       "      <th>23</th>\n",
       "      <td>243.0</td>\n",
       "    </tr>\n",
       "    <tr>\n",
       "      <th>24</th>\n",
       "      <td>934.0</td>\n",
       "    </tr>\n",
       "    <tr>\n",
       "      <th>25</th>\n",
       "      <td>973.0</td>\n",
       "    </tr>\n",
       "    <tr>\n",
       "      <th>26</th>\n",
       "      <td>1012.0</td>\n",
       "    </tr>\n",
       "    <tr>\n",
       "      <th>27</th>\n",
       "      <td>982.0</td>\n",
       "    </tr>\n",
       "    <tr>\n",
       "      <th>28</th>\n",
       "      <td>570.0</td>\n",
       "    </tr>\n",
       "    <tr>\n",
       "      <th>29</th>\n",
       "      <td>129.0</td>\n",
       "    </tr>\n",
       "    <tr>\n",
       "      <th>...</th>\n",
       "      <td>...</td>\n",
       "    </tr>\n",
       "    <tr>\n",
       "      <th>4970</th>\n",
       "      <td>226.0</td>\n",
       "    </tr>\n",
       "    <tr>\n",
       "      <th>4971</th>\n",
       "      <td>748.0</td>\n",
       "    </tr>\n",
       "    <tr>\n",
       "      <th>4972</th>\n",
       "      <td>722.0</td>\n",
       "    </tr>\n",
       "    <tr>\n",
       "      <th>4973</th>\n",
       "      <td>1004.0</td>\n",
       "    </tr>\n",
       "    <tr>\n",
       "      <th>4974</th>\n",
       "      <td>525.0</td>\n",
       "    </tr>\n",
       "    <tr>\n",
       "      <th>4975</th>\n",
       "      <td>589.0</td>\n",
       "    </tr>\n",
       "    <tr>\n",
       "      <th>4976</th>\n",
       "      <td>300.0</td>\n",
       "    </tr>\n",
       "    <tr>\n",
       "      <th>4977</th>\n",
       "      <td>400.0</td>\n",
       "    </tr>\n",
       "    <tr>\n",
       "      <th>4978</th>\n",
       "      <td>994.0</td>\n",
       "    </tr>\n",
       "    <tr>\n",
       "      <th>4979</th>\n",
       "      <td>101.0</td>\n",
       "    </tr>\n",
       "    <tr>\n",
       "      <th>4980</th>\n",
       "      <td>955.0</td>\n",
       "    </tr>\n",
       "    <tr>\n",
       "      <th>4981</th>\n",
       "      <td>257.0</td>\n",
       "    </tr>\n",
       "    <tr>\n",
       "      <th>4982</th>\n",
       "      <td>392.0</td>\n",
       "    </tr>\n",
       "    <tr>\n",
       "      <th>4983</th>\n",
       "      <td>959.0</td>\n",
       "    </tr>\n",
       "    <tr>\n",
       "      <th>4984</th>\n",
       "      <td>517.0</td>\n",
       "    </tr>\n",
       "    <tr>\n",
       "      <th>4985</th>\n",
       "      <td>665.0</td>\n",
       "    </tr>\n",
       "    <tr>\n",
       "      <th>4986</th>\n",
       "      <td>19.0</td>\n",
       "    </tr>\n",
       "    <tr>\n",
       "      <th>4987</th>\n",
       "      <td>81.0</td>\n",
       "    </tr>\n",
       "    <tr>\n",
       "      <th>4988</th>\n",
       "      <td>612.0</td>\n",
       "    </tr>\n",
       "    <tr>\n",
       "      <th>4989</th>\n",
       "      <td>915.0</td>\n",
       "    </tr>\n",
       "    <tr>\n",
       "      <th>4990</th>\n",
       "      <td>437.0</td>\n",
       "    </tr>\n",
       "    <tr>\n",
       "      <th>4991</th>\n",
       "      <td>552.0</td>\n",
       "    </tr>\n",
       "    <tr>\n",
       "      <th>4992</th>\n",
       "      <td>312.0</td>\n",
       "    </tr>\n",
       "    <tr>\n",
       "      <th>4993</th>\n",
       "      <td>778.0</td>\n",
       "    </tr>\n",
       "    <tr>\n",
       "      <th>4994</th>\n",
       "      <td>450.0</td>\n",
       "    </tr>\n",
       "    <tr>\n",
       "      <th>4995</th>\n",
       "      <td>960.0</td>\n",
       "    </tr>\n",
       "    <tr>\n",
       "      <th>4996</th>\n",
       "      <td>105.0</td>\n",
       "    </tr>\n",
       "    <tr>\n",
       "      <th>4997</th>\n",
       "      <td>914.0</td>\n",
       "    </tr>\n",
       "    <tr>\n",
       "      <th>4998</th>\n",
       "      <td>337.0</td>\n",
       "    </tr>\n",
       "    <tr>\n",
       "      <th>4999</th>\n",
       "      <td>227.0</td>\n",
       "    </tr>\n",
       "  </tbody>\n",
       "</table>\n",
       "<p>5000 rows × 1 columns</p>\n",
       "</div>"
      ],
      "text/plain": [
       "         ch1\n",
       "0      550.0\n",
       "1      766.0\n",
       "2      552.0\n",
       "3      859.0\n",
       "4      945.0\n",
       "5      240.0\n",
       "6      641.0\n",
       "7      948.0\n",
       "8      322.0\n",
       "9      465.0\n",
       "10     427.0\n",
       "11     241.0\n",
       "12     467.0\n",
       "13     984.0\n",
       "14     639.0\n",
       "15     867.0\n",
       "16     319.0\n",
       "17     486.0\n",
       "18     575.0\n",
       "19     144.0\n",
       "20     705.0\n",
       "21     122.0\n",
       "22     209.0\n",
       "23     243.0\n",
       "24     934.0\n",
       "25     973.0\n",
       "26    1012.0\n",
       "27     982.0\n",
       "28     570.0\n",
       "29     129.0\n",
       "...      ...\n",
       "4970   226.0\n",
       "4971   748.0\n",
       "4972   722.0\n",
       "4973  1004.0\n",
       "4974   525.0\n",
       "4975   589.0\n",
       "4976   300.0\n",
       "4977   400.0\n",
       "4978   994.0\n",
       "4979   101.0\n",
       "4980   955.0\n",
       "4981   257.0\n",
       "4982   392.0\n",
       "4983   959.0\n",
       "4984   517.0\n",
       "4985   665.0\n",
       "4986    19.0\n",
       "4987    81.0\n",
       "4988   612.0\n",
       "4989   915.0\n",
       "4990   437.0\n",
       "4991   552.0\n",
       "4992   312.0\n",
       "4993   778.0\n",
       "4994   450.0\n",
       "4995   960.0\n",
       "4996   105.0\n",
       "4997   914.0\n",
       "4998   337.0\n",
       "4999   227.0\n",
       "\n",
       "[5000 rows x 1 columns]"
      ]
     },
     "execution_count": 12,
     "metadata": {},
     "output_type": "execute_result"
    }
   ],
   "source": [
    "cvs\n"
   ]
  },
  {
   "cell_type": "code",
   "execution_count": 222,
   "metadata": {
    "collapsed": false
   },
   "outputs": [],
   "source": [
    "def read_adc_loop( adc_chnumber,Time):\n",
    "    #command=np.zeros([adc_chnumber,2]).astype(np.int64)\n",
    "    command={}\n",
    "    times=range(Time)\n",
    "    generalData=np.zeros([Time,adc_chnumber,3])\n",
    "    for adc_number in range(adc_chnumber):\n",
    "        command[adc_number,0] = 0b11 << 6                  \n",
    "        command[adc_number,0] |= (adc_number & 0x07) << 3 \n",
    "        command[adc_number,1]=adc_number \n",
    "    startTime = time.time()\n",
    "    for i in times:\n",
    "        for chcommand in  command:\n",
    "            pass\n",
    "        # generalData[i,chcommand[1]]=r\n",
    "    endTime=time.time()\n",
    "    samplerate=Time/(endTime-startTime)\n",
    "    print('samplerate:{samplerate}'.format(samplerate=samplerate))\n",
    "\n",
    "\n"
   ]
  },
  {
   "cell_type": "code",
   "execution_count": 224,
   "metadata": {
    "collapsed": false
   },
   "outputs": [
    {
     "name": "stdout",
     "output_type": "stream",
     "text": [
      "samplerate:2886651.066758431\n"
     ]
    }
   ],
   "source": [
    "read_adc_loop(2,5000)\n"
   ]
  },
  {
   "cell_type": "code",
   "execution_count": 210,
   "metadata": {
    "collapsed": false
   },
   "outputs": [],
   "source": [
    "import ctypes\n"
   ]
  },
  {
   "cell_type": "code",
   "execution_count": 214,
   "metadata": {
    "collapsed": false
   },
   "outputs": [
    {
     "data": {
      "text/plain": [
       "192"
      ]
     },
     "execution_count": 214,
     "metadata": {},
     "output_type": "execute_result"
    }
   ],
   "source": [
    "command = 0b11 << 6                  \n",
    "        # Start bit, single channel read\n",
    "command |= (0 & 0x07) << 3 \n",
    "command"
   ]
  }
 ],
 "metadata": {
  "kernelspec": {
   "display_name": "Python 3",
   "language": "python",
   "name": "python3"
  },
  "language_info": {
   "codemirror_mode": {
    "name": "ipython",
    "version": 3
   },
   "file_extension": ".py",
   "mimetype": "text/x-python",
   "name": "python",
   "nbconvert_exporter": "python",
   "pygments_lexer": "ipython3",
   "version": "3.6.0"
  }
 },
 "nbformat": 4,
 "nbformat_minor": 2
}
